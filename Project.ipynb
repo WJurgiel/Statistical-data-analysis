{
  "nbformat": 4,
  "nbformat_minor": 0,
  "metadata": {
    "colab": {
      "provenance": [],
      "authorship_tag": "ABX9TyO4LId8GmKg9/nHPu+S9wUl",
      "include_colab_link": true
    },
    "kernelspec": {
      "name": "ir",
      "display_name": "R"
    },
    "language_info": {
      "name": "R"
    }
  },
  "cells": [
    {
      "cell_type": "markdown",
      "metadata": {
        "id": "view-in-github",
        "colab_type": "text"
      },
      "source": [
        "<a href=\"https://colab.research.google.com/github/WJurgiel/Statistical-data-analysis/blob/PC2_statistical-hyphothesis-test/Project.ipynb\" target=\"_parent\"><img src=\"https://colab.research.google.com/assets/colab-badge.svg\" alt=\"Open In Colab\"/></a>"
      ]
    },
    {
      "cell_type": "markdown",
      "source": [
        "##Zadanie 1##\n",
        "H_0: μ = 35 (przeciętny czas pracy jest równy 35)\n",
        "\n",
        "H_1 μ != 35 (przeciętny czas pracy nie jest równy 35)\n",
        "\n",
        "Wybór testu:\n",
        "\n",
        "\n",
        "*   test parametryczny - wartość przeciętna\n",
        "*   pojedyncza próba\n",
        "* skala ilorazowa\n",
        "\n",
        "t.test()\n",
        "\n",
        "α=0.05\n",
        "\n"
      ],
      "metadata": {
        "id": "b1YLesv19aRa"
      }
    },
    {
      "cell_type": "code",
      "execution_count": 2,
      "metadata": {
        "colab": {
          "base_uri": "https://localhost:8080/",
          "height": 208
        },
        "id": "iRmtK7Bu8XdG",
        "outputId": "dda488ce-fc5e-4d55-ce5b-6b6ad54ecd30"
      },
      "outputs": [
        {
          "output_type": "display_data",
          "data": {
            "text/plain": [
              "\n",
              "\tOne Sample t-test\n",
              "\n",
              "data:  czas\n",
              "t = -0.4699, df = 13, p-value = 0.6462\n",
              "alternative hypothesis: true mean is not equal to 35\n",
              "95 percent confidence interval:\n",
              " 32.82896 36.39533\n",
              "sample estimates:\n",
              "mean of x \n",
              " 34.61214 \n"
            ]
          },
          "metadata": {}
        }
      ],
      "source": [
        "czas <- c(35.34, 36.26, 30.54, 38.2, 37.59, 39.18, 34.23, 27.9, 36.33, 32.39, 34.89, 35.7, 31.99,34.03)\n",
        "t.test(czas, mu=35.0)"
      ]
    },
    {
      "cell_type": "markdown",
      "source": [
        "p-val > 0.05, przeciętny czas pracy jest równy 35. H0 jest prawdziwe"
      ],
      "metadata": {
        "id": "VH9BCjY9-UBe"
      }
    },
    {
      "cell_type": "markdown",
      "source": [
        "##Zadanie 2##\n"
      ],
      "metadata": {
        "id": "hjaDcRiJ-dW7"
      }
    },
    {
      "cell_type": "markdown",
      "source": [
        "H_0: μ >= 127.7 (zużycie paliwa zwiekszyło się lub się nie zmieniło)\n",
        "\n",
        "H_1 μ > 127.7 (zużycie paliwa zmniejszyło się)\n",
        "\n",
        "Wybór testu:\n",
        "\n",
        "*   test parametryczny - wartość przeciętna\n",
        "*   pojedyncza próba\n",
        "* skala ilorazowa\n",
        "\n",
        "t.test()\n",
        "\n",
        "α=0.01"
      ],
      "metadata": {
        "id": "eq2XvrXbENuD"
      }
    },
    {
      "cell_type": "code",
      "source": [
        "paliwo <- c(101.1, 105.7, 102.6, 113.4, 98.1)\n",
        "t.test(paliwo, mu=127.7, alternative = \"less\", conf.level = 0.01)"
      ],
      "metadata": {
        "colab": {
          "base_uri": "https://localhost:8080/",
          "height": 208
        },
        "id": "72FKxvu2_iKv",
        "outputId": "726be6f1-4ce3-4202-dd2f-e3edfcb8fec2"
      },
      "execution_count": 5,
      "outputs": [
        {
          "output_type": "display_data",
          "data": {
            "text/plain": [
              "\n",
              "\tOne Sample t-test\n",
              "\n",
              "data:  paliwo\n",
              "t = -9.0106, df = 4, p-value = 0.00042\n",
              "alternative hypothesis: true mean is less than 127.7\n",
              "1 percent confidence interval:\n",
              "     -Inf 94.39953\n",
              "sample estimates:\n",
              "mean of x \n",
              "   104.18 \n"
            ]
          },
          "metadata": {}
        }
      ]
    },
    {
      "cell_type": "markdown",
      "source": [
        "p-val < 0.01, odrzucamy H0, H1 prawdziwe, zużycie paliwa zmniejszyło się"
      ],
      "metadata": {
        "id": "Bvzk9HqPE4t0"
      }
    },
    {
      "cell_type": "markdown",
      "source": [
        "##Zadanie 3##"
      ],
      "metadata": {
        "id": "kInBi2oB_JU7"
      }
    },
    {
      "cell_type": "markdown",
      "source": [
        "H_0: rozkład jest normalny\n",
        "\n",
        "H_1 μ > rozkład nie jest normalny\n",
        "\n",
        "Wybór testu:\n",
        "\n",
        "*   test nieparametryczny - wartość przeciętna\n",
        "*   pojedyncza próba\n",
        "* skala ilorazowa\n",
        "\n",
        "shapiro.test()\n",
        "\n",
        "α=0.05"
      ],
      "metadata": {
        "id": "hlKFAfj6FFGe"
      }
    },
    {
      "cell_type": "code",
      "source": [
        "cisnienie <- c(1.36, 1.14, 1.27, 1.15, 1.20, 1.29, 1.27, 1.18, 1.23, 1.36, 1.38, 1.37, 1.30, 1.21, 1.33, 1.28, 1.32,\n",
        "1.29, 1.33, 1.25)\n",
        "shapiro.test(cisnienie)"
      ],
      "metadata": {
        "colab": {
          "base_uri": "https://localhost:8080/",
          "height": 104
        },
        "id": "fEulw7VX-g8W",
        "outputId": "d078c47a-f69a-47b4-ca35-b7fff92f250d"
      },
      "execution_count": 4,
      "outputs": [
        {
          "output_type": "display_data",
          "data": {
            "text/plain": [
              "\n",
              "\tShapiro-Wilk normality test\n",
              "\n",
              "data:  cisnienie\n",
              "W = 0.95459, p-value = 0.4421\n"
            ]
          },
          "metadata": {}
        }
      ]
    },
    {
      "cell_type": "markdown",
      "source": [
        "p-val < 0.05, odrzucamy H0, H1 prawdziwe -> rozkład nie jest normalny"
      ],
      "metadata": {
        "id": "ioNYKoCEFdi9"
      }
    },
    {
      "cell_type": "markdown",
      "source": [
        "##Zadanie 4##"
      ],
      "metadata": {
        "id": "tNzPzQP1BClD"
      }
    },
    {
      "cell_type": "code",
      "source": [
        "rok_1 <- c(220,185,270,285,200,295,255,190,225,230)\n",
        "rok_2 <- c(190, 175, 215, 260, 215, 195, 260, 150, 155, 175)\n",
        "t.test(rok_1, rok_2, paired=\"true\")"
      ],
      "metadata": {
        "colab": {
          "base_uri": "https://localhost:8080/",
          "height": 208
        },
        "id": "ONh2ve55BIS0",
        "outputId": "5a9772e9-f667-452b-914c-a961aa0f5ce6"
      },
      "execution_count": 10,
      "outputs": [
        {
          "output_type": "display_data",
          "data": {
            "text/plain": [
              "\n",
              "\tPaired t-test\n",
              "\n",
              "data:  rok_1 and rok_2\n",
              "t = 3.2863, df = 9, p-value = 0.009434\n",
              "alternative hypothesis: true mean difference is not equal to 0\n",
              "95 percent confidence interval:\n",
              " 11.37466 61.62534\n",
              "sample estimates:\n",
              "mean difference \n",
              "           36.5 \n"
            ]
          },
          "metadata": {}
        }
      ]
    }
  ]
}
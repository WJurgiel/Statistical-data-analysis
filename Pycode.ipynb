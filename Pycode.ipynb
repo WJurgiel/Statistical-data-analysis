{
  "nbformat": 4,
  "nbformat_minor": 0,
  "metadata": {
    "colab": {
      "provenance": [],
      "authorship_tag": "ABX9TyOf4ZLJHaq9WxDPPZ4MvbjJ",
      "include_colab_link": true
    },
    "kernelspec": {
      "name": "python3",
      "display_name": "Python 3"
    },
    "language_info": {
      "name": "python"
    }
  },
  "cells": [
    {
      "cell_type": "markdown",
      "metadata": {
        "id": "view-in-github",
        "colab_type": "text"
      },
      "source": [
        "<a href=\"https://colab.research.google.com/github/WJurgiel/Statistical-data-analysis/blob/PC2_statistical-hyphothesis-test/Pycode.ipynb\" target=\"_parent\"><img src=\"https://colab.research.google.com/assets/colab-badge.svg\" alt=\"Open In Colab\"/></a>"
      ]
    },
    {
      "cell_type": "code",
      "execution_count": 1,
      "metadata": {
        "colab": {
          "base_uri": "https://localhost:8080/"
        },
        "id": "YBJ5jpDHRyJz",
        "outputId": "d3fb7cab-e7ac-4ba3-aa64-22cc46b69d02"
      },
      "outputs": [
        {
          "output_type": "stream",
          "name": "stdout",
          "text": [
            "Test statistics:  -1.9703687322875536\n",
            "P-value =  0.09630098675306417\n",
            "We are not rejecting H0, average weight doesn't differ from 150g\n"
          ]
        }
      ],
      "source": [
        "from scipy import stats\n",
        "coffee = [142,151,148,151,145,150,141]\n",
        "mu = 150\n",
        "# ratio scale, single sample\n",
        "\n",
        "statistics_T, p_value = stats.ttest_1samp(coffee,mu)\n",
        "print(\"Test statistics: \", statistics_T)\n",
        "print(\"P-value = \", p_value);\n",
        "\n",
        "alpha = 0.05\n",
        "if(p_value < alpha):\n",
        "  print(\"Reject H0 - average weight differs from 150g\")\n",
        "else:\n",
        "  print(\"We are not rejecting H0, average weight doesn't differ from 150g\")"
      ]
    }
  ]
}
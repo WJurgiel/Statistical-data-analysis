{
  "nbformat": 4,
  "nbformat_minor": 0,
  "metadata": {
    "colab": {
      "provenance": [],
      "authorship_tag": "ABX9TyPUEJhS5VV9rnt50Zbnwx7A",
      "include_colab_link": true
    },
    "kernelspec": {
      "name": "ir",
      "display_name": "R"
    },
    "language_info": {
      "name": "R"
    }
  },
  "cells": [
    {
      "cell_type": "markdown",
      "metadata": {
        "id": "view-in-github",
        "colab_type": "text"
      },
      "source": [
        "<a href=\"https://colab.research.google.com/github/WJurgiel/Statistical-data-analysis/blob/PC2_statistical-hyphothesis-test/Rcode.ipynb\" target=\"_parent\"><img src=\"https://colab.research.google.com/assets/colab-badge.svg\" alt=\"Open In Colab\"/></a>"
      ]
    },
    {
      "cell_type": "markdown",
      "source": [
        "Wagi [g] (7 prób): 142, 151, 148, 151, 145, 150, 141\n",
        "\n",
        "Teoretyczna waga [g]: 150\n",
        "α = 0.05\n",
        "\n",
        "**Hipotezy: **\n",
        "\n",
        " * H0: μ=150* (przeciętna waga netto słoiczka kawy wynosi 150 g)\n",
        "\n",
        "  *H1: μ≠150* (przeciętna waga netto słoiczka kawy różni się istotnie od wagi nominalnej)\n",
        "\n",
        "Test statystyczny - parametryczny, pojedyncza próba, skala ilorazowa"
      ],
      "metadata": {
        "id": "ag5wCyJcNKY0"
      }
    },
    {
      "cell_type": "code",
      "source": [
        "kawa <- c(142, 151, 148, 151, 145, 150, 141)\n",
        "t.test(kawa, mu=150)\n",
        "# param_1 - vector with data\n",
        "# param_2 - average value (H0 = 150)\n",
        "# alpha is set by default as 0.05"
      ],
      "metadata": {
        "id": "vMASV4fuNfNz",
        "outputId": "d6af445e-f405-4969-e33c-735092f15ccf",
        "colab": {
          "base_uri": "https://localhost:8080/",
          "height": 208
        }
      },
      "execution_count": 1,
      "outputs": [
        {
          "output_type": "display_data",
          "data": {
            "text/plain": [
              "\n",
              "\tOne Sample t-test\n",
              "\n",
              "data:  kawa\n",
              "t = -1.9704, df = 6, p-value = 0.0963\n",
              "alternative hypothesis: true mean is not equal to 150\n",
              "95 percent confidence interval:\n",
              " 142.9542 150.7601\n",
              "sample estimates:\n",
              "mean of x \n",
              " 146.8571 \n"
            ]
          },
          "metadata": {}
        }
      ]
    },
    {
      "cell_type": "markdown",
      "source": [
        "**wartość testowa** t = -1.9704\n",
        "\n",
        "**p-value** = 0.0963 -> p > a, so there's no need to throw away H0. Average weight of jar with coffee doesn't differ significantly from 150g"
      ],
      "metadata": {
        "id": "JHmZvXXwNwll"
      }
    },
    {
      "cell_type": "markdown",
      "source": [
        "# **TASK 2**\n",
        "before:  27, 21, 34, 24, 30, 27, 33, 31, 22, 27\n",
        "\n",
        "after:  29, 32, 29, 27, 31, 26, 35, 30, 29, 28.\n",
        "\n",
        "alpha = 0.05\n",
        "\n",
        "H0 no difference\n",
        "\n",
        "H1 there's a difference\n",
        "\n",
        "Parametrical test - average value, double sample, ratio scale\n"
      ],
      "metadata": {
        "id": "Xe74Kn31OzkT"
      }
    },
    {
      "cell_type": "code",
      "source": [
        "before <- c(27,21,34,24,30,27,33,31,22,27)\n",
        "after <- c(29,32,29,27,31,26,35,30,29,28)\n",
        "t.test(before, after, alternative = \"greater\", paired = TRUE)"
      ],
      "metadata": {
        "id": "XvrbMxunPqQg",
        "outputId": "6eb41cb1-b22e-4be2-98e0-7947f8e8520d",
        "colab": {
          "base_uri": "https://localhost:8080/",
          "height": 208
        }
      },
      "execution_count": 2,
      "outputs": [
        {
          "output_type": "display_data",
          "data": {
            "text/plain": [
              "\n",
              "\tPaired t-test\n",
              "\n",
              "data:  before and after\n",
              "t = -1.4302, df = 9, p-value = 0.9068\n",
              "alternative hypothesis: true mean difference is greater than 0\n",
              "95 percent confidence interval:\n",
              " -4.563447       Inf\n",
              "sample estimates:\n",
              "mean difference \n",
              "             -2 \n"
            ]
          },
          "metadata": {}
        }
      ]
    },
    {
      "cell_type": "markdown",
      "source": [
        "#test value = -1.4302\n",
        "#p-value = 0.9068 > alpha\n",
        "There's no fundamentals to reject H0, so it's true. Keep in mind that we could've committed 2nd kind mistake, what is not rejecting H0 even though it's false"
      ],
      "metadata": {
        "id": "g4674e__QtZj"
      }
    }
  ]
}